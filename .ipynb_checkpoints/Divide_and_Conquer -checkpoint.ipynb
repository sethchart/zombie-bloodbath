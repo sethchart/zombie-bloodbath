{
 "cells": [
  {
   "cell_type": "markdown",
   "id": "verified-hundred",
   "metadata": {},
   "source": [
    "![Go Fast](matthew-brodeur-eJ9mX6yEbAw-unsplash.jpg)"
   ]
  },
  {
   "cell_type": "markdown",
   "id": "alternative-demographic",
   "metadata": {},
   "source": [
    "In my [last post](https://sethchart.com/posts/10/) I described how to sort a list of integers using a slight variation of selection sort, which I dubbed Zombie Bloodbath sort.\n",
    "In that post, we found out that the resulting algorithm had quadratic worst-case time complexity.\n",
    "It turns out that we can sort a list faster, but we need to be a little tricky. "
   ]
  },
  {
   "cell_type": "markdown",
   "id": "better-equilibrium",
   "metadata": {},
   "source": [
    "## What You Will Learn\n",
    "\n",
    "In this post, I will describe how we can modify our approach to sorting to achieve optimal worst-case time complexity.\n",
    "In other words, I will show you how to go fast."
   ]
  },
  {
   "cell_type": "markdown",
   "id": "different-angel",
   "metadata": {},
   "source": [
    "## Recap from Last Time\n",
    "In my last post, I decided that I would remember the algorithm more easily if I made the whole melodramatic.\n",
    "That worked for me, if it didn't work for you, sorry not sorry.\n",
    "\n",
    "Sorting a list is all about comparisons between pairs of elements, to add drama these are fights to the death.\n",
    "Last time, we wrote the following function that implements a fight to the death between two integers where the larger integer always wins and ties go to the integer on the left."
   ]
  },
  {
   "cell_type": "code",
   "execution_count": 2,
   "id": "wrapped-inclusion",
   "metadata": {},
   "outputs": [],
   "source": [
    "def fight(a: int, b: int) -> int:\n",
    "    \"\"\"This function implements a fight to the death between two integers a \n",
    "    and b and returns the winner.\n",
    "    \"\"\"\n",
    "    if a >= b:\n",
    "        winner = a\n",
    "    else:\n",
    "        winner = b\n",
    "    return winner\n",
    "\n",
    "assert fight(-10, 5) == 5, \"Negative ten is unexpectedly scrappy!\"\n",
    "assert fight(7, 5) == 7, \"Poor show seven, better luck next time...\"\n",
    "assert fight(7, 7) == 7, \"How did you manage to get that wrong?\""
   ]
  },
  {
   "cell_type": "markdown",
   "id": "white-coordinate",
   "metadata": {},
   "source": [
    "Last time, we ran a sequence of smaller and smaller tournaments to sort our list.\n",
    "This time we are going to organize our fights differently so that we can use substantially fewer fights to sort the list."
   ]
  },
  {
   "cell_type": "markdown",
   "id": "expressed-freight",
   "metadata": {},
   "source": [
    "## Divide and Conquer\n",
    "Imagine that we have our motley crew of integers ready to battle for sorted supremacy. \n",
    "In other words, an unsorted list of integers if you want to be boring about it.\n",
    "\n",
    "```python \n",
    "unsorted = [4, -9, 3, 1, 5, 7, -1, 0]\n",
    "```\n",
    "\n",
    "This time we are going to do something strange.\n",
    "Imagine that you already have a way to sort a list of length four, don't worry about how for a minute.\n",
    "Then we could split our list with eight elements into two lists.\n",
    "\n",
    "```python\n",
    "[4, -9, 3, 1], [5, 7, -1, 0]\n",
    "```\n",
    "\n",
    "By undisclosed magic, I am allowed to sort these lists of length four so that I get the sorted lists below.\n",
    "\n",
    "```python\n",
    "A = [4, 3, 1, -9]\n",
    "B = [7, 5, 0, -1]\n",
    "```\n",
    "\n",
    "We would be done if we could shuffle those two lists together like a deck of cards. \n",
    "This is generally called _merging_ the lists.\n",
    "We are going to fight some numbers to figure out how to merge the lists.\n",
    "The key to being efficient when we merge is taking advantage of the fact that our small lists are already sorted. \n",
    "\n",
    "Because my small lists are sorted already, I know that the left most element is the largest in its respective list.\n",
    "That means that the largest number in the two lists must be one of the two left most elements. \n",
    "In our example, these are four and seven.\n",
    "So to determine the first number in my sorted list, I just need one fight between four and seven.\n",
    "Seven wins and goes to the hall of champions, which leaves me with the list below for the next step of merging.\n",
    "\n",
    "```python\n",
    "# After first step of merge.\n",
    "hall_of_champions = [7]\n",
    "A = [4, 3, 1, -9]\n",
    "B = [5, 0, -1]\n",
    "```\n",
    "\n",
    "The great thing is that these two lists are still sorted.\n",
    "To determine who goes to the hall of champions next, I can just have another fight between the top competitors.\n",
    "In this case four and five.\n",
    "\n",
    "```python\n",
    "# After second step of merge.\n",
    "hall_of_champions = [7, 5]\n",
    "A = [4, 3, 1, -9]\n",
    "B = [0, -1]\n",
    "```\n",
    "\n",
    "Rinse, wash, and repeat.\n",
    "\n",
    "Four fights zero.\n",
    "\n",
    "```python\n",
    "# After third step of merge.\n",
    "hall_of_champions = [7, 5, 4]\n",
    "A = [3, 1, -9]\n",
    "B = [0, -1]\n",
    "```\n",
    "\n",
    "Three fights zero.\n",
    "```python\n",
    "# After fourth step of merge.\n",
    "hall_of_champions = [7, 5, 4, 3]\n",
    "A = [1, -9]\n",
    "B = [0, -1]\n",
    "```\n",
    "\n",
    "One fights zero.\n",
    "```python\n",
    "# After fifth step of merge.\n",
    "hall_of_champions = [7, 5, 4, 3, 1]\n",
    "A = [-9]\n",
    "B = [0, -1]\n",
    "```\n",
    "\n",
    "Negative nine fights zero.\n",
    "```python\n",
    "# After sixth step of merge.\n",
    "hall_of_champions = [7, 5, 4, 3, 1, 0]\n",
    "A = [-9]\n",
    "B = [-1]\n",
    "```\n",
    "\n",
    "Negative nine fights negative one.\n",
    "```python\n",
    "# After sixth step of merge.\n",
    "hall_of_champions = [7, 5, 4, 3, 1, 0, -1]\n",
    "A = [-9]\n",
    "B = []\n",
    "```\n",
    "\n",
    "No fights left, tack the remaining list onto the end of the hall of champions.\n",
    "```python\n",
    "# Done.\n",
    "hall_of_champions = [7, 5, 4, 3, 1, 0, -1, -9]\n",
    "A = []\n",
    "B = []\n",
    "```"
   ]
  },
  {
   "cell_type": "code",
   "execution_count": 14,
   "id": "fitted-connectivity",
   "metadata": {},
   "outputs": [
    {
     "ename": "AssertionError",
     "evalue": "Failed last step.",
     "output_type": "error",
     "traceback": [
      "\u001b[0;31m---------------------------------------------------------------------------\u001b[0m",
      "\u001b[0;31mAssertionError\u001b[0m                            Traceback (most recent call last)",
      "\u001b[0;32m<ipython-input-14-b6eec56c5b51>\u001b[0m in \u001b[0;36m<module>\u001b[0;34m\u001b[0m\n\u001b[1;32m     33\u001b[0m \u001b[0;32massert\u001b[0m \u001b[0mmerge_sorted_lists\u001b[0m\u001b[0;34m(\u001b[0m\u001b[0;34m(\u001b[0m\u001b[0mA\u001b[0m\u001b[0;34m[\u001b[0m\u001b[0;36m2\u001b[0m\u001b[0;34m:\u001b[0m\u001b[0;34m]\u001b[0m\u001b[0;34m,\u001b[0m \u001b[0mB\u001b[0m\u001b[0;34m[\u001b[0m\u001b[0;36m2\u001b[0m\u001b[0;34m:\u001b[0m\u001b[0;34m]\u001b[0m\u001b[0;34m,\u001b[0m \u001b[0mhoc\u001b[0m\u001b[0;34m[\u001b[0m\u001b[0;34m:\u001b[0m\u001b[0;36m4\u001b[0m\u001b[0;34m]\u001b[0m\u001b[0;34m)\u001b[0m\u001b[0;34m)\u001b[0m \u001b[0;34m==\u001b[0m \u001b[0;34m(\u001b[0m\u001b[0mA\u001b[0m\u001b[0;34m[\u001b[0m\u001b[0;36m3\u001b[0m\u001b[0;34m:\u001b[0m\u001b[0;34m]\u001b[0m\u001b[0;34m,\u001b[0m \u001b[0mB\u001b[0m\u001b[0;34m[\u001b[0m\u001b[0;36m2\u001b[0m\u001b[0;34m:\u001b[0m\u001b[0;34m]\u001b[0m\u001b[0;34m,\u001b[0m \u001b[0mhoc\u001b[0m\u001b[0;34m[\u001b[0m\u001b[0;34m:\u001b[0m\u001b[0;36m5\u001b[0m\u001b[0;34m]\u001b[0m\u001b[0;34m)\u001b[0m\u001b[0;34m,\u001b[0m \u001b[0;34m\"Failed fifth step.\"\u001b[0m\u001b[0;34m\u001b[0m\u001b[0;34m\u001b[0m\u001b[0m\n\u001b[1;32m     34\u001b[0m \u001b[0;32massert\u001b[0m \u001b[0mmerge_sorted_lists\u001b[0m\u001b[0;34m(\u001b[0m\u001b[0;34m(\u001b[0m\u001b[0mA\u001b[0m\u001b[0;34m[\u001b[0m\u001b[0;36m3\u001b[0m\u001b[0;34m:\u001b[0m\u001b[0;34m]\u001b[0m\u001b[0;34m,\u001b[0m \u001b[0mB\u001b[0m\u001b[0;34m[\u001b[0m\u001b[0;36m2\u001b[0m\u001b[0;34m:\u001b[0m\u001b[0;34m]\u001b[0m\u001b[0;34m,\u001b[0m \u001b[0mhoc\u001b[0m\u001b[0;34m[\u001b[0m\u001b[0;34m:\u001b[0m\u001b[0;36m5\u001b[0m\u001b[0;34m]\u001b[0m\u001b[0;34m)\u001b[0m\u001b[0;34m)\u001b[0m \u001b[0;34m==\u001b[0m \u001b[0;34m(\u001b[0m\u001b[0mA\u001b[0m\u001b[0;34m[\u001b[0m\u001b[0;36m3\u001b[0m\u001b[0;34m:\u001b[0m\u001b[0;34m]\u001b[0m\u001b[0;34m,\u001b[0m \u001b[0mB\u001b[0m\u001b[0;34m[\u001b[0m\u001b[0;36m3\u001b[0m\u001b[0;34m:\u001b[0m\u001b[0;34m]\u001b[0m\u001b[0;34m,\u001b[0m \u001b[0mhoc\u001b[0m\u001b[0;34m[\u001b[0m\u001b[0;34m:\u001b[0m\u001b[0;36m6\u001b[0m\u001b[0;34m]\u001b[0m\u001b[0;34m)\u001b[0m\u001b[0;34m,\u001b[0m \u001b[0;34m\"Failed sixth step.\"\u001b[0m\u001b[0;34m\u001b[0m\u001b[0;34m\u001b[0m\u001b[0m\n\u001b[0;32m---> 35\u001b[0;31m \u001b[0;32massert\u001b[0m \u001b[0mmerge_sorted_lists\u001b[0m\u001b[0;34m(\u001b[0m\u001b[0;34m(\u001b[0m\u001b[0mA\u001b[0m\u001b[0;34m[\u001b[0m\u001b[0;36m3\u001b[0m\u001b[0;34m:\u001b[0m\u001b[0;34m]\u001b[0m\u001b[0;34m,\u001b[0m \u001b[0mB\u001b[0m\u001b[0;34m[\u001b[0m\u001b[0;36m3\u001b[0m\u001b[0;34m:\u001b[0m\u001b[0;34m]\u001b[0m\u001b[0;34m,\u001b[0m \u001b[0mhoc\u001b[0m\u001b[0;34m[\u001b[0m\u001b[0;34m:\u001b[0m\u001b[0;36m6\u001b[0m\u001b[0;34m]\u001b[0m\u001b[0;34m)\u001b[0m\u001b[0;34m)\u001b[0m \u001b[0;34m==\u001b[0m \u001b[0;34m(\u001b[0m\u001b[0;34m[\u001b[0m\u001b[0;34m]\u001b[0m\u001b[0;34m,\u001b[0m \u001b[0;34m[\u001b[0m\u001b[0;34m]\u001b[0m\u001b[0;34m,\u001b[0m \u001b[0mhoc\u001b[0m\u001b[0;34m)\u001b[0m\u001b[0;34m,\u001b[0m \u001b[0;34m\"Failed last step.\"\u001b[0m\u001b[0;34m\u001b[0m\u001b[0;34m\u001b[0m\u001b[0m\n\u001b[0m",
      "\u001b[0;31mAssertionError\u001b[0m: Failed last step."
     ]
    }
   ],
   "source": [
    "from typing import List, Tuple\n",
    "MeregTuple = Tuple[List[int], List[int], List[int]]\n",
    "def merge_sorted_lists(merge_tuple: MeregTuple) -> MeregTuple:\n",
    "    A = merge_tuple[0]\n",
    "    B = merge_tuple[1]\n",
    "    hall_of_champions = merge_tuple[2]\n",
    "    try:\n",
    "        a = A[0]\n",
    "    except IndexError:\n",
    "        hall_of_champions.extend(B)\n",
    "        B=[]\n",
    "    try:\n",
    "        b = B[0]\n",
    "    except IndexError:\n",
    "        hall_of_champions.extend(A)\n",
    "        A = []\n",
    "    winner = fight(A[0], B[0])\n",
    "    if a == winner:\n",
    "        hall_of_champions.append(a)\n",
    "        A = A[1:]\n",
    "    elif b == winner:\n",
    "        hall_of_champions.append(b)\n",
    "        B = B[1:]\n",
    "    return A, B, hall_of_champions\n",
    "\n",
    "A = [4, 3, 1, -9]\n",
    "B = [7, 5, 0, -1]\n",
    "hoc = [7, 5, 4, 3, 1, 0, -1, -9]\n",
    "assert merge_sorted_lists((A, B, [])) == (A, B[1:], hoc[:1]), \"Failed first step.\"\n",
    "assert merge_sorted_lists((A, B[1:], hoc[:1])) == (A, B[2:], hoc[:2]), \"Failed second step.\"\n",
    "assert merge_sorted_lists((A, B[2:], hoc[:2])) == (A[1:], B[2:], hoc[:3]), \"Failed third step.\"\n",
    "assert merge_sorted_lists((A[1:], B[2:], hoc[:3])) == (A[2:], B[2:], hoc[:4]), \"Failed fourth step.\"\n",
    "assert merge_sorted_lists((A[2:], B[2:], hoc[:4])) == (A[3:], B[2:], hoc[:5]), \"Failed fifth step.\"\n",
    "assert merge_sorted_lists((A[3:], B[2:], hoc[:5])) == (A[3:], B[3:], hoc[:6]), \"Failed sixth step.\"\n",
    "assert merge_sorted_lists((A[3:], B[3:], hoc[:6])) == ([], [], hoc), \"Failed last step.\"\n"
   ]
  },
  {
   "cell_type": "markdown",
   "id": "premier-reality",
   "metadata": {},
   "source": [
    "## Acknowledgments\n",
    "Photo by <a href=\"https://unsplash.com/@mrbrodeur?utm_source=unsplash&utm_medium=referral&utm_content=creditCopyText\">Matthew Brodeur</a> on <a href=\"https://unsplash.com/s/photos/speed?utm_source=unsplash&utm_medium=referral&utm_content=creditCopyText\">Unsplash</a>"
   ]
  },
  {
   "cell_type": "code",
   "execution_count": 3,
   "id": "vocational-maria",
   "metadata": {},
   "outputs": [
    {
     "ename": "IndexError",
     "evalue": "list index out of range",
     "output_type": "error",
     "traceback": [
      "\u001b[0;31m---------------------------------------------------------------------------\u001b[0m",
      "\u001b[0;31mIndexError\u001b[0m                                Traceback (most recent call last)",
      "\u001b[0;32m<ipython-input-3-5efc8f1c5bc2>\u001b[0m in \u001b[0;36m<module>\u001b[0;34m\u001b[0m\n\u001b[1;32m      1\u001b[0m \u001b[0mA\u001b[0m \u001b[0;34m=\u001b[0m \u001b[0;34m[\u001b[0m\u001b[0;34m]\u001b[0m\u001b[0;34m\u001b[0m\u001b[0;34m\u001b[0m\u001b[0m\n\u001b[0;32m----> 2\u001b[0;31m \u001b[0mA\u001b[0m\u001b[0;34m[\u001b[0m\u001b[0;36m0\u001b[0m\u001b[0;34m]\u001b[0m\u001b[0;34m\u001b[0m\u001b[0;34m\u001b[0m\u001b[0m\n\u001b[0m",
      "\u001b[0;31mIndexError\u001b[0m: list index out of range"
     ]
    }
   ],
   "source": [
    "A = []\n",
    "A[0]"
   ]
  },
  {
   "cell_type": "code",
   "execution_count": null,
   "id": "criminal-marshall",
   "metadata": {},
   "outputs": [],
   "source": []
  }
 ],
 "metadata": {
  "kernelspec": {
   "display_name": "Python 3",
   "language": "python",
   "name": "python3"
  },
  "language_info": {
   "codemirror_mode": {
    "name": "ipython",
    "version": 3
   },
   "file_extension": ".py",
   "mimetype": "text/x-python",
   "name": "python",
   "nbconvert_exporter": "python",
   "pygments_lexer": "ipython3",
   "version": "3.8.6"
  }
 },
 "nbformat": 4,
 "nbformat_minor": 5
}
