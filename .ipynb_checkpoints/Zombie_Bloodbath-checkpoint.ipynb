{
 "cells": [
  {
   "cell_type": "markdown",
   "id": "posted-hacker",
   "metadata": {},
   "source": [
    "# Sorting\n",
    "\n",
    "In this post you will learn a little bit about sorting lists of integers using python.\n",
    "If you would prefer to read this post as a Jupyter notebook, you can grab it from github [here](https://github.com/sethchart/zombie-bloodbath/blob/main/Zombie_Bloodbath.ipynb).\n",
    "\n",
    "## Why am I writing this?\n",
    "\n",
    "Yesterday I had my first live code test as part of a technical interview for a Data Science role. \n",
    "One of the questions was:\n",
    "> Write a function in python that sorts a list of integers.\n",
    "\n",
    "People have been telling me to study data structures and algorithms since I finished my Data Science bootcamp.\n",
    "I know that I should be working [LeetCode](https://leetcode.com/) problems at least a few times per week and reading up on DS&A, but I have been more focused on other things. My bad.\n",
    "\n",
    "Anyway, I think I muddled my way through to something that was close to right, but I know that sorting a list of integers is probably the single most standard DS&A question in the tech industry. \n",
    "I was a little embarrassed that I didn't have a slick answer ready to go.\n",
    "That embarrassment did not do me any favors when I tried to solve the problem.\n",
    "\n",
    "It is too late for me to be prepared, but I can learn from my mistake.\n",
    "Keep reading if you would like to learn from my mistake as well.\n",
    "\n",
    "## What you will learn.\n",
    "\n",
    "In this post:\n",
    "* I will walk through the reasoning required to get a basic sorting function written. I am going to try to make this part memorable so that I can remember it next time someone throws down this particular gauntlet.\n",
    "* I will talk a little bit about the _time complexity_ of my basic sorting algorithm. I will keep this light because there are plenty of places to learn about time complexity."
   ]
  },
  {
   "cell_type": "markdown",
   "id": "liked-georgia",
   "metadata": {},
   "source": [
    "# The Basic Algorithm\n",
    "I am going to do my best to write this part without looking anything up, then I am going to put a link to whichever algorithm seems closest to what I come up with below so that you can go look at other examples of how to implement that sorting algorithm."
   ]
  },
  {
   "cell_type": "markdown",
   "id": "deadly-thanks",
   "metadata": {},
   "source": [
    "## Walk before you run\n",
    "\n",
    "So I know that I want to be able to take a list on integers like `[12, 3, -7, 5, 2, 3]` and sort it into either `[-7, 2, 3, 3, 5, 12]` or `[12, 5, 3, 3, 2, -7]`. \n",
    "I would be happy with either one.\n",
    "\n",
    "Before I tackle the problem of sorting the list in increasing or decreasing order, I am going to try to solve a simpler problem. \n",
    "> Find the biggest number in the list.\n",
    "\n",
    "I want to try to make this easy to remember, so I am going make my approach a little dramatic.\n",
    "I am going to make these numbers fight... to the death!\n",
    "These are not fair fights.\n",
    "The bigger number always wins.\n",
    "If equal numbers fight, the one on the left wins.\n",
    "Let's write a function to represent a fight between two numbers."
   ]
  },
  {
   "cell_type": "code",
   "execution_count": 1,
   "id": "intellectual-clarity",
   "metadata": {},
   "outputs": [],
   "source": [
    "def fight(a: int, b: int) -> int:\n",
    "    \"\"\"This function implements a fight to the death between two integers a \n",
    "    and b and returns the winner.\n",
    "    \"\"\"\n",
    "    if a >= b:\n",
    "        winner = a\n",
    "    else:\n",
    "        winner = b\n",
    "    return winner\n",
    "\n",
    "assert fight(-10, 5) == 5, \"Negative ten is unexpectedly scrappy!\"\n",
    "assert fight(7, 5) == 7, \"Poor show seven, better luck next time...\"\n",
    "assert fight(7, 7) == 7, \"How did you manage to get that wrong?\""
   ]
  },
  {
   "cell_type": "markdown",
   "id": "settled-diary",
   "metadata": {},
   "source": [
    "Cool, that seems to have worked.\n",
    "Maybe I needed to stand up before I could walk?"
   ]
  },
  {
   "cell_type": "markdown",
   "id": "controversial-beauty",
   "metadata": {},
   "source": [
    "### Finding the biggest number\n",
    "\n",
    "Alright, I can make any two numbers fight to the death. \n",
    "If I want to find the biggest number, I can just run a bunch of fights.\n",
    "A tournament of numbers!\n",
    "I will pick two contenders, make them fight, then pick a new contender to fight the winner of the last fight.\n",
    "I will keep doing this until only one number is left alive. \n",
    "That number had to be bigger than (or equal to) all of the dead numbers, because it fought them and won.\n",
    "Therefore, the last number standing is the largest number from my list.\n",
    "Let's write a function that represents this tournament of numbers."
   ]
  },
  {
   "cell_type": "code",
   "execution_count": 2,
   "id": "common-excellence",
   "metadata": {},
   "outputs": [],
   "source": [
    "from typing import List\n",
    "\n",
    "def tournament(contestants: List[int]) -> int:\n",
    "    \"\"\"This function implements a tournament. Only one will survive! Returns \n",
    "    the winner of the tournament.\"\"\"\n",
    "    winner = contestants[0]\n",
    "    for contestant in contestants[1:]:\n",
    "        winner = fight(winner, contestant)\n",
    "    return winner\n",
    "\n",
    "assert tournament([12, 3, -7, 5, 2, 3]) == 12, 'That was not all roses.'\n",
    "assert tournament([6, 3, 3, 13, -9]) == 13, 'Your baker is cheap.'\n",
    "assert tournament([-7, 2, 3, 3, 5, 12]) == 12, 'Why would order matter?'"
   ]
  },
  {
   "cell_type": "markdown",
   "id": "harmful-welcome",
   "metadata": {},
   "source": [
    "Neat, that worked too."
   ]
  },
  {
   "cell_type": "markdown",
   "id": "adverse-olive",
   "metadata": {},
   "source": [
    "## Sorting with a Zombie Bloodbath\n",
    "\n",
    "Alright, I can find the largest number in a list by using a tournament.\n",
    "So how do I sort a list of numbers?\n",
    "Let's take our input list and move numbers into an output list.\n",
    "We will start by moving the largest number to the output list, then iteratively append the largest of the remaining unplaced numbers until we run out of numbers.\n",
    "\n",
    "Boring!\n",
    "We will run a tournament, the winner goes to the hall of champions.\n",
    "Then we resurrect all of the losers and have another tournament, the winner goes to the hall of champions and stands to the right of the first winner.\n",
    "Keep resurrecting the remaining losers, running a tournament, and sending the winner to the hall of champions.\n",
    "When there is only one loser left, resurrect them and send them to the hall of champions in shame.\n",
    "The hall of champions is our sorted list.\n",
    "Since the largest of all of the remaining numbers is always added to the right end of the hall of champions, we will end up with a list that is sorted from left to right, largest to smallest.\n",
    "The best part...\n",
    "This can only possibly be described as the Zombie Bloodbath sorting algorithm.\n",
    "\n",
    "Let's write a function that represents this Zombie Bloodbath."
   ]
  },
  {
   "cell_type": "code",
   "execution_count": 3,
   "id": "engaged-authorization",
   "metadata": {},
   "outputs": [],
   "source": [
    "def zombie_blood_bath(contestents: List[int]) -> List[int]:\n",
    "    \"\"\"This function implements a Zombie Bloodbath. Sucesive tournaments send\n",
    "    thier winners to the hall of champions (sorted list).\"\"\"\n",
    "    losers = contestents\n",
    "    hall_of_champions = []\n",
    "    while len(losers) > 1:\n",
    "        winner = tournament(losers)\n",
    "        losers.remove(winner)\n",
    "        hall_of_champions.append(winner)\n",
    "    hall_of_champions.append(losers[0])\n",
    "    return hall_of_champions\n",
    "\n",
    "assert zombie_blood_bath([12, 3, -7, 5, 2, 3]) == [12, 5, 3, 3, 2, -7], \"Nope\"\n",
    "assert zombie_blood_bath([3, 6, 2, -34, 15]) == [15, 6, 3, 2, -34], \"Also no.\""
   ]
  },
  {
   "cell_type": "markdown",
   "id": "unauthorized-reggae",
   "metadata": {},
   "source": [
    "Well that seems to have worked.\n",
    "If only I would have gone into a protracted and mumbling monologue about a Zombie Bloodbath during my technical interview..."
   ]
  },
  {
   "cell_type": "code",
   "execution_count": 4,
   "id": "false-picnic",
   "metadata": {},
   "outputs": [
    {
     "data": {
      "text/plain": [
       "[12, 5, 3, 3, 2, -7]"
      ]
     },
     "execution_count": 4,
     "metadata": {},
     "output_type": "execute_result"
    }
   ],
   "source": [
    "zombie_blood_bath([12, 3, -7, 5, 2, 3])"
   ]
  },
  {
   "cell_type": "markdown",
   "id": "challenging-defense",
   "metadata": {},
   "source": [
    "## What did I actually come up with?\n",
    "\n",
    "I think that the Zombie Bloodbath sort algorithm is essentially Selection sort. Check out the links below for more information.\n",
    "* [Wikipedia](https://en.wikipedia.org/wiki/Selection_sort)\n",
    "* [Google search](http://www.google.com/search?q=implement+selection+sort+algorithm+python)\n",
    "\n",
    "By subjecting you to this tortured metaphor, I have diverged from Selection sort in the following ways:\n",
    "* My list is sorted in descending order. \n",
    "* I have introduced some extra variables, which means I am using unnecessary memory.\n",
    "* I have written three functions instead of one, which arguably makes my implementation more complicated. On the other hand, I might be able to defend my approach by appealing to the [single-responsibility principle](https://en.wikipedia.org/wiki/Single-responsibility_principle)."
   ]
  },
  {
   "cell_type": "markdown",
   "id": "dirty-polls",
   "metadata": {},
   "source": [
    "# How many fights in a Zombie Bloodbath?\n",
    "\n",
    "So I have come up with an algorithm. \n",
    "I have some questions:\n",
    " 1. Is it good?\n",
    " 2. What do I mean by good?\n",
    " 3. What are words?\n",
    " 4. If I see the color red and you see the color red, do we have the same experience of the color red?\n",
    " 5. Why?\n",
    " 6. Why?\n",
    "\n",
    "```python\n",
    "---------------------------------------------------------------------------\n",
    "QuestionError                                 Traceback (most recent call last)\n",
    "<ipython-input-4.5-ca42ed42e993> in <module>\n",
    "----> I have some questions:\n",
    "\n",
    "QuestionError: Too many follow-up questions. Terminated recursive why loop.\n",
    "```\n",
    "\n",
    "Let me answer the first two questions.\n",
    " 1. My algorithm is not good.\n",
    " 2. By good, I mean that an algorithm has optimal worst-case [time complexity](https://en.wikipedia.org/wiki/Time_complexity). Roughly, a sorting algorithm is good if it does not require an unnecessarily large number of steps to sort the list.\n",
    " \n",
    "Let's analyze the Zombie Bloodbath algorithm. \n",
    "To keep things simple, let's just count the number of fights in a Zombie Bloodbath.\n",
    "For us fights will stand in for steps.\n",
    "\n",
    "If I start with the list `[12, 3, -7, 5, 2, 3]`, then to obtain the sorted list `[12, 5, 3, 3, 2, -7]` my Zombie Bloodbath would consist of the following tournaments:\n",
    "1. A tournament with all six contestants consisting of five fights.\n",
    "2. A tournament with five remaining contestants consisting of four fights.\n",
    "3. A tournament with four remaining contestants consisting of three fights.\n",
    "4. A tournament with three remaining contestants consisting of two fights.\n",
    "5. A tournament with two remaining contestants consisting of one fight.\n",
    "\n",
    "Adding up all of the fights we get a total of fifteen.\n",
    "$$ 5 + 4 + 3 + 2 + 1 = 15 $$\n",
    "\n",
    "Time complexity is all about how the number of steps grows as the size of the input grows.\n",
    "In our case, we want to know how many fights happen during a Zombie Bloodbath that starts with a list of $k$ numbers.\n",
    "By the same reasoning as above, we would start with a tournament with $k-1$ fights and work our way down to the last tournament with just one fight.\n",
    "If you are familiar with [Triangular Numbers](https://en.wikipedia.org/wiki/Triangular_number), then you know that when we sum up all of the fights in our Zombie Bloodbath, we will get the following.\n",
    "$$ (k-1) + (k-2) + ... + 2 + 1 =  \\tfrac{1}{2}k^2 - \\tfrac{1}{2}k = O\\left(k^2\\right)$$\n",
    "\n",
    "In short, Zombie Bloodbath is a quadratic algorithm.\n",
    "\n",
    "## Merge sort\n",
    "It turns out that we can sort our list in fewer fights. \n",
    "One algorithm that achieves the optimal worst-case time complexity is [Merge sort](https://en.wikipedia.org/wiki/Merge_sort). Merge sort is a log-linear algorithm, or in big-O notation $O\\left(k\\log k\\right)$."
   ]
  },
  {
   "cell_type": "markdown",
   "id": "golden-smart",
   "metadata": {},
   "source": [
    "# Conclusion\n",
    "\n",
    "In this post, have tried to give you a memorable mental model that will allow you to write a basic sort algorithm from scratch next time someone asks you. Below you can see what I might write next time. "
   ]
  },
  {
   "cell_type": "code",
   "execution_count": 5,
   "id": "stylish-recovery",
   "metadata": {},
   "outputs": [],
   "source": [
    "def fight(a, b):\n",
    "    if a <= b:\n",
    "        winner = b\n",
    "    else:\n",
    "        winner = a\n",
    "    return winner\n",
    "\n",
    "def tournament(lst):\n",
    "    winner = lst[0]\n",
    "    for contestant in lst[1:]:\n",
    "        winner = fight(winner, contestant)\n",
    "    return winner\n",
    "\n",
    "def my_sort(lst):\n",
    "    sorted_lst = []\n",
    "    losers = lst\n",
    "    while len(losers)>1:\n",
    "        winner = tournament(losers)\n",
    "        sorted_lst.append(winner)\n",
    "        losers.remove(winner)\n",
    "    sorted_lst.append(losers[0])\n",
    "    return sorted_lst\n",
    "    \n",
    "assert my_sort([12, 3, -7, 5, 2, 3]) == [12, 5, 3, 3, 2, -7], \"Nope\"\n",
    "assert my_sort([3, 6, 2, -34, 15]) == [15, 6, 3, 2, -34], \"Also no.\""
   ]
  },
  {
   "cell_type": "code",
   "execution_count": 6,
   "id": "advance-function",
   "metadata": {},
   "outputs": [
    {
     "data": {
      "text/plain": [
       "[12, 5, 3, 3, 2, -7]"
      ]
     },
     "execution_count": 6,
     "metadata": {},
     "output_type": "execute_result"
    }
   ],
   "source": [
    "my_sort([12, 3, -7, 5, 2, 3])"
   ]
  }
 ],
 "metadata": {
  "kernelspec": {
   "display_name": "Python 3",
   "language": "python",
   "name": "python3"
  },
  "language_info": {
   "codemirror_mode": {
    "name": "ipython",
    "version": 3
   },
   "file_extension": ".py",
   "mimetype": "text/x-python",
   "name": "python",
   "nbconvert_exporter": "python",
   "pygments_lexer": "ipython3",
   "version": "3.8.6"
  },
  "widgets": {
   "application/vnd.jupyter.widget-state+json": {
    "state": {},
    "version_major": 2,
    "version_minor": 0
   }
  }
 },
 "nbformat": 4,
 "nbformat_minor": 5
}
